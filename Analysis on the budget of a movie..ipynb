{
 "cells": [
  {
   "cell_type": "markdown",
   "metadata": {},
   "source": [
    "\n",
    "\n",
    "# Project:  An Analysis done on the effect the budget of a movie has on its performance in the Market.\n"
   ]
  },
  {
   "cell_type": "markdown",
   "metadata": {},
   "source": [
    "# <a id='intro'></a>\n",
    "## Introduction\n",
    "\n",
    "### Dataset Description \n",
    "\n",
    "For this Analysis, I will like to first of all assume that I work for a movie production company and I have the board of directors at this company are undecided about whether they should go all out in thier spendings for upcoming movies or they should be prudent with resources.\n",
    "Half of the board argue that resources are limited and advise that management will be better while the other half feels that spending more will also mean earning more. So as not to make the wrong decision, the company have decided to go with the option that is fact based. hence I have been provided with this Dataset which is the TMDB-MOVIES dataset from the Company to deduce whether the budget size of a movie has an effect on the performance of the movie.\n",
    "\n",
    "This Dataset is a compilation of different movies from different genres with the following attributes:-\n",
    "1. id: the id of each movie.\n",
    "2. imdb id: the imdb id of each movie\n",
    "3. popularity: a figure stating how much popular a movie is\n",
    "4. budget: the budget size or mobey spent on each movie. which is in DOLLARS\n",
    "5. revenue: the entire monies earned from each movie which is also in DOLLARS\n",
    "6. original title: the title of each movie\n",
    "7. cast: Starcast of each movie\n",
    "8. homepage: the website to get more information on each movie\n",
    "9. director: the director of each movie\n",
    "10. tagline: a brief intro to the movie\n",
    "11. overview: a brief summary of each movie\n",
    "12. keywords: keywords of each movie\n",
    "13. runtime: duration of each movie in minutes\n",
    "14. genres: the genre of each movie\n",
    "15. production_company: producers of each movie\n",
    "16. release_date: exact date that each movie was released\n",
    "17. release_year: exact year that each movie was released\n",
    "18. vote_count: number of votes a movie received.\n",
    "19. vote_average: average of the vote_count.\n",
    "20. budget_adj: an adjusted version of the budget\n",
    "21. revenue_adj: an adjusted version of the revenue\n",
    "\n",
    "\n",
    "\n",
    "### Question(s) for Analysis\n",
    "The general question I will be aiming to answer, is the effect of the budget on the general performance of a movie. to do this, i will be answering the following sub questions\n",
    "1. how does the budget do against the popularity\n",
    "2. how does the budget do against the revenue\n",
    "3. how does the budget do against the number of votes received.\n",
    "even though at a first glance it seems as though the budget is the independent variable while the popularity, revenue and number of votes are the dependent variables, since this is a report that affects the budget size of future movies, it won't be worng to see the budget as depended on the revenue, popularity and vote_counts."
   ]
  },
  {
   "cell_type": "code",
   "execution_count": 1,
   "metadata": {},
   "outputs": [],
   "source": [
    "# Use this cell to set up import statements for all of the packages that you\n",
    "#   plan to use.\n",
    "import pandas as pd\n",
    "import numpy as np\n",
    "import matplotlib.pyplot as plt\n",
    "% matplotlib inline\n",
    "import seaborn as sns\n",
    "# Remember to include a 'magic word' so that your visualizations are plotted\n",
    "#   inline with the notebook. See this page for more:\n",
    "#   http://ipython.readthedocs.io/en/stable/interactive/magics.html\n"
   ]
  },
  {
   "cell_type": "code",
   "execution_count": 2,
   "metadata": {},
   "outputs": [],
   "source": [
    "# Upgrade pandas to use dataframe.explode() function. \n",
    "!pip install --upgrade pandas==0.25.0"
   ]
  },
  {
   "cell_type": "markdown",
   "metadata": {},
   "source": [
    "\n",
    "## Data Wrangling"
   ]
  },
  {
   "cell_type": "code",
   "execution_count": 3,
   "metadata": {},
   "outputs": [],
   "source": [
    "# Load your data and print out a few lines. Perform operations to inspect data\n",
    "#   types and look for instances of missing or possibly errant data.\n",
    "df=pd.read_csv('tmdb-movies.csv')"
   ]
  },
  {
   "cell_type": "markdown",
   "metadata": {},
   "source": [
    "Before i move forward to clean the data, i will be assessing the data to notice the irregularities and see what needs to be removed, modified or updated"
   ]
  },
  {
   "cell_type": "code",
   "execution_count": 4,
   "metadata": {
    "scrolled": true
   },
   "outputs": [
    {
     "name": "stdout",
     "output_type": "stream",
     "text": [
      "       id    imdb_id  popularity     budget     revenue  \\\n",
      "0  135397  tt0369610   32.985763  150000000  1513528810   \n",
      "1   76341  tt1392190   28.419936  150000000   378436354   \n",
      "2  262500  tt2908446   13.112507  110000000   295238201   \n",
      "3  140607  tt2488496   11.173104  200000000  2068178225   \n",
      "4  168259  tt2820852    9.335014  190000000  1506249360   \n",
      "\n",
      "                 original_title  \\\n",
      "0                Jurassic World   \n",
      "1            Mad Max: Fury Road   \n",
      "2                     Insurgent   \n",
      "3  Star Wars: The Force Awakens   \n",
      "4                     Furious 7   \n",
      "\n",
      "                                                cast  \\\n",
      "0  Chris Pratt|Bryce Dallas Howard|Irrfan Khan|Vi...   \n",
      "1  Tom Hardy|Charlize Theron|Hugh Keays-Byrne|Nic...   \n",
      "2  Shailene Woodley|Theo James|Kate Winslet|Ansel...   \n",
      "3  Harrison Ford|Mark Hamill|Carrie Fisher|Adam D...   \n",
      "4  Vin Diesel|Paul Walker|Jason Statham|Michelle ...   \n",
      "\n",
      "                                            homepage          director  \\\n",
      "0                      http://www.jurassicworld.com/   Colin Trevorrow   \n",
      "1                        http://www.madmaxmovie.com/     George Miller   \n",
      "2     http://www.thedivergentseries.movie/#insurgent  Robert Schwentke   \n",
      "3  http://www.starwars.com/films/star-wars-episod...       J.J. Abrams   \n",
      "4                           http://www.furious7.com/         James Wan   \n",
      "\n",
      "                         tagline      ...       \\\n",
      "0              The park is open.      ...        \n",
      "1             What a Lovely Day.      ...        \n",
      "2     One Choice Can Destroy You      ...        \n",
      "3  Every generation has a story.      ...        \n",
      "4            Vengeance Hits Home      ...        \n",
      "\n",
      "                                            overview runtime  \\\n",
      "0  Twenty-two years after the events of Jurassic ...     124   \n",
      "1  An apocalyptic story set in the furthest reach...     120   \n",
      "2  Beatrice Prior must confront her inner demons ...     119   \n",
      "3  Thirty years after defeating the Galactic Empi...     136   \n",
      "4  Deckard Shaw seeks revenge against Dominic Tor...     137   \n",
      "\n",
      "                                      genres  \\\n",
      "0  Action|Adventure|Science Fiction|Thriller   \n",
      "1  Action|Adventure|Science Fiction|Thriller   \n",
      "2         Adventure|Science Fiction|Thriller   \n",
      "3   Action|Adventure|Science Fiction|Fantasy   \n",
      "4                      Action|Crime|Thriller   \n",
      "\n",
      "                                production_companies release_date vote_count  \\\n",
      "0  Universal Studios|Amblin Entertainment|Legenda...       6/9/15       5562   \n",
      "1  Village Roadshow Pictures|Kennedy Miller Produ...      5/13/15       6185   \n",
      "2  Summit Entertainment|Mandeville Films|Red Wago...      3/18/15       2480   \n",
      "3          Lucasfilm|Truenorth Productions|Bad Robot     12/15/15       5292   \n",
      "4  Universal Pictures|Original Film|Media Rights ...       4/1/15       2947   \n",
      "\n",
      "   vote_average  release_year    budget_adj   revenue_adj  \n",
      "0           6.5          2015  1.379999e+08  1.392446e+09  \n",
      "1           7.1          2015  1.379999e+08  3.481613e+08  \n",
      "2           6.3          2015  1.012000e+08  2.716190e+08  \n",
      "3           7.5          2015  1.839999e+08  1.902723e+09  \n",
      "4           7.3          2015  1.747999e+08  1.385749e+09  \n",
      "\n",
      "[5 rows x 21 columns]\n"
     ]
    }
   ],
   "source": [
    "#This gives us a sumarized view of the whole dataset. the top 5 cells including the headers to be specific.\n",
    "print(df.head(5))"
   ]
  },
  {
   "cell_type": "markdown",
   "metadata": {},
   "source": [
    "From the cell above, i can clearly see that there are columns that i wont be needing that i will have to remove later on"
   ]
  },
  {
   "cell_type": "code",
   "execution_count": 5,
   "metadata": {},
   "outputs": [
    {
     "name": "stdout",
     "output_type": "stream",
     "text": [
      "<class 'pandas.core.frame.DataFrame'>\n",
      "RangeIndex: 10866 entries, 0 to 10865\n",
      "Data columns (total 21 columns):\n",
      "id                      10866 non-null int64\n",
      "imdb_id                 10856 non-null object\n",
      "popularity              10866 non-null float64\n",
      "budget                  10866 non-null int64\n",
      "revenue                 10866 non-null int64\n",
      "original_title          10866 non-null object\n",
      "cast                    10790 non-null object\n",
      "homepage                2936 non-null object\n",
      "director                10822 non-null object\n",
      "tagline                 8042 non-null object\n",
      "keywords                9373 non-null object\n",
      "overview                10862 non-null object\n",
      "runtime                 10866 non-null int64\n",
      "genres                  10843 non-null object\n",
      "production_companies    9836 non-null object\n",
      "release_date            10866 non-null object\n",
      "vote_count              10866 non-null int64\n",
      "vote_average            10866 non-null float64\n",
      "release_year            10866 non-null int64\n",
      "budget_adj              10866 non-null float64\n",
      "revenue_adj             10866 non-null float64\n",
      "dtypes: float64(4), int64(6), object(11)\n",
      "memory usage: 1.7+ MB\n"
     ]
    }
   ],
   "source": [
    "#next i check out some information about the data set\n",
    "df.info()"
   ]
  },
  {
   "cell_type": "markdown",
   "metadata": {},
   "source": [
    "this shows us the number of non empty columns, i can see that there are some columns that have empty values that will need to be attended to when cleaning commences."
   ]
  },
  {
   "cell_type": "code",
   "execution_count": 6,
   "metadata": {},
   "outputs": [
    {
     "data": {
      "text/plain": [
       "(10866, 21)"
      ]
     },
     "execution_count": 6,
     "metadata": {},
     "output_type": "execute_result"
    }
   ],
   "source": [
    "# here i check for the shape of the dataset\n",
    "df.shape"
   ]
  },
  {
   "cell_type": "markdown",
   "metadata": {},
   "source": [
    "this dataset has 10866 movies with 21 attributes"
   ]
  },
  {
   "cell_type": "code",
   "execution_count": 7,
   "metadata": {
    "scrolled": true
   },
   "outputs": [
    {
     "name": "stdout",
     "output_type": "stream",
     "text": [
      "                  id    popularity        budget       revenue       runtime  \\\n",
      "count   10866.000000  10866.000000  1.086600e+04  1.086600e+04  10866.000000   \n",
      "mean    66064.177434      0.646441  1.462570e+07  3.982332e+07    102.070863   \n",
      "std     92130.136561      1.000185  3.091321e+07  1.170035e+08     31.381405   \n",
      "min         5.000000      0.000065  0.000000e+00  0.000000e+00      0.000000   \n",
      "25%     10596.250000      0.207583  0.000000e+00  0.000000e+00     90.000000   \n",
      "50%     20669.000000      0.383856  0.000000e+00  0.000000e+00     99.000000   \n",
      "75%     75610.000000      0.713817  1.500000e+07  2.400000e+07    111.000000   \n",
      "max    417859.000000     32.985763  4.250000e+08  2.781506e+09    900.000000   \n",
      "\n",
      "         vote_count  vote_average  release_year    budget_adj   revenue_adj  \n",
      "count  10866.000000  10866.000000  10866.000000  1.086600e+04  1.086600e+04  \n",
      "mean     217.389748      5.974922   2001.322658  1.755104e+07  5.136436e+07  \n",
      "std      575.619058      0.935142     12.812941  3.430616e+07  1.446325e+08  \n",
      "min       10.000000      1.500000   1960.000000  0.000000e+00  0.000000e+00  \n",
      "25%       17.000000      5.400000   1995.000000  0.000000e+00  0.000000e+00  \n",
      "50%       38.000000      6.000000   2006.000000  0.000000e+00  0.000000e+00  \n",
      "75%      145.750000      6.600000   2011.000000  2.085325e+07  3.369710e+07  \n",
      "max     9767.000000      9.200000   2015.000000  4.250000e+08  2.827124e+09  \n"
     ]
    }
   ],
   "source": [
    "#here i will look for a short description of the dataset\n",
    "print (df.describe())"
   ]
  },
  {
   "cell_type": "markdown",
   "metadata": {},
   "source": [
    "this shows me the counts of each column, the mean, minimum, maximum number also shows the 25%,50%,75% percentile of each column"
   ]
  },
  {
   "cell_type": "code",
   "execution_count": 8,
   "metadata": {},
   "outputs": [
    {
     "data": {
      "text/plain": [
       "id                        int64\n",
       "imdb_id                  object\n",
       "popularity              float64\n",
       "budget                    int64\n",
       "revenue                   int64\n",
       "original_title           object\n",
       "cast                     object\n",
       "homepage                 object\n",
       "director                 object\n",
       "tagline                  object\n",
       "keywords                 object\n",
       "overview                 object\n",
       "runtime                   int64\n",
       "genres                   object\n",
       "production_companies     object\n",
       "release_date             object\n",
       "vote_count                int64\n",
       "vote_average            float64\n",
       "release_year              int64\n",
       "budget_adj              float64\n",
       "revenue_adj             float64\n",
       "dtype: object"
      ]
     },
     "execution_count": 8,
     "metadata": {},
     "output_type": "execute_result"
    }
   ],
   "source": [
    "# here i will look at the various datatypes of each column to see whether they are correctbb\n",
    "df.dtypes"
   ]
  },
  {
   "cell_type": "markdown",
   "metadata": {},
   "source": [
    "I notice that some of the datatypes are not correct. these incorrect datatypes will be mentioned during the data cleaning process and corrected"
   ]
  },
  {
   "cell_type": "code",
   "execution_count": 9,
   "metadata": {},
   "outputs": [
    {
     "data": {
      "text/plain": [
       "1"
      ]
     },
     "execution_count": 9,
     "metadata": {},
     "output_type": "execute_result"
    }
   ],
   "source": [
    "# here i check for duplicates\n",
    "sum(df.duplicated())"
   ]
  },
  {
   "cell_type": "markdown",
   "metadata": {},
   "source": [
    "One row has duplicated data. this will be attended to during the data cleaning process."
   ]
  },
  {
   "cell_type": "markdown",
   "metadata": {},
   "source": [
    "\n",
    "### Data Cleaning\n",
    "While assessing the dataset, some errors and inconsistencies were found. these errors were:\n",
    "1. unnecesary data\n",
    "2. empty cells\n",
    "3. wrong data types\n",
    "4. duplicates\n",
    "> **Tip**: Make sure that you keep your reader informed on the steps that you are taking in your investigation. Follow every code cell, or every set of related code cells, with a markdown cell to describe to the reader what was found in the preceding cell(s). Try to make it so that the reader can then understand what they will be seeing in the following cell(s).\n",
    " "
   ]
  },
  {
   "cell_type": "code",
   "execution_count": 10,
   "metadata": {},
   "outputs": [],
   "source": [
    "# After discussing the structure of the data and any problems that need to be\n",
    "#   cleaned, perform those cleaning steps in the second part of this section.\n"
   ]
  },
  {
   "cell_type": "markdown",
   "metadata": {},
   "source": [
    "### UNNECESARY ROWS\n",
    "here i remove the rows that i wont be needing to do my analysis.\n",
    "rows such as the 'id', 'imdb_id', 'original_title', 'cast', 'homepage', 'director', 'tagline', 'overview', 'production_companies', 'release_date', 'release_year', 'budget_adj', 'revenue_adj', 'genres' and 'keywords' wont be needed for my anaylsis so they will be dropped."
   ]
  },
  {
   "cell_type": "code",
   "execution_count": 11,
   "metadata": {},
   "outputs": [],
   "source": [
    "df.drop(['id','imdb_id','original_title','cast','homepage','director','tagline','overview','production_companies','release_date','release_year','budget_adj','revenue_adj','genres','runtime','vote_average','keywords'],axis =1,inplace=True)"
   ]
  },
  {
   "cell_type": "code",
   "execution_count": 12,
   "metadata": {
    "scrolled": false
   },
   "outputs": [
    {
     "name": "stdout",
     "output_type": "stream",
     "text": [
      "   popularity     budget     revenue  vote_count\n",
      "0   32.985763  150000000  1513528810        5562\n",
      "1   28.419936  150000000   378436354        6185\n",
      "2   13.112507  110000000   295238201        2480\n",
      "3   11.173104  200000000  2068178225        5292\n",
      "4    9.335014  190000000  1506249360        2947\n"
     ]
    }
   ],
   "source": [
    "#to check if the code worked\n",
    "print(df.head())"
   ]
  },
  {
   "cell_type": "code",
   "execution_count": 13,
   "metadata": {},
   "outputs": [
    {
     "name": "stdout",
     "output_type": "stream",
     "text": [
      "<class 'pandas.core.frame.DataFrame'>\n",
      "RangeIndex: 10866 entries, 0 to 10865\n",
      "Data columns (total 4 columns):\n",
      "popularity    10866 non-null float64\n",
      "budget        10866 non-null int64\n",
      "revenue       10866 non-null int64\n",
      "vote_count    10866 non-null int64\n",
      "dtypes: float64(1), int64(3)\n",
      "memory usage: 339.6 KB\n"
     ]
    }
   ],
   "source": [
    "#here, i will have a quick look at a summary of my empty cells\n",
    "df.info()"
   ]
  },
  {
   "cell_type": "markdown",
   "metadata": {},
   "source": [
    "None of the needed cells have empty values."
   ]
  },
  {
   "cell_type": "markdown",
   "metadata": {},
   "source": [
    "None of the attributes also have incorrect datatypes.\n",
    "\n",
    "Next i will deal with the duplicate data"
   ]
  },
  {
   "cell_type": "code",
   "execution_count": 14,
   "metadata": {},
   "outputs": [],
   "source": [
    "# since i have just 1 duplicated data it will be better to drop it as it will not have a serious effect on my analysis.\n",
    "df.drop_duplicates(inplace=True)"
   ]
  },
  {
   "cell_type": "code",
   "execution_count": 15,
   "metadata": {},
   "outputs": [
    {
     "data": {
      "text/plain": [
       "0"
      ]
     },
     "execution_count": 15,
     "metadata": {},
     "output_type": "execute_result"
    }
   ],
   "source": [
    "#check to confirm.\n",
    "sum(df.duplicated())"
   ]
  },
  {
   "cell_type": "markdown",
   "metadata": {},
   "source": [
    "I have already attended to the various inconsistencies highlithed with this data set and i will be moving next to begin my analysis"
   ]
  },
  {
   "cell_type": "markdown",
   "metadata": {},
   "source": [
    "<a id='eda'></a>\n",
    "## Exploratory Data Analysis\n",
    "\n",
    "> **Tip**: Now that you've trimmed and cleaned your data, you're ready to move on to exploration. **Compute statistics** and **create visualizations** with the goal of addressing the research questions that you posed in the Introduction section. You should compute the relevant statistics throughout the analysis when an inference is made about the data. Note that at least two or more kinds of plots should be created as part of the exploration, and you must  compare and show trends in the varied visualizations. \n",
    "\n",
    "\n",
    "\n",
    "> **Tip**: - Investigate the stated question(s) from multiple angles. It is recommended that you be systematic with your approach. Look at one variable at a time, and then follow it up by looking at relationships between variables. You should explore at least three variables in relation to the primary question. This can be an exploratory relationship between three variables of interest, or looking at how two independent variables relate to a single dependent variable of interest. Lastly, you  should perform both single-variable (1d) and multiple-variable (2d) explorations.\n",
    "\n",
    "\n",
    "### WHAT IS THE RELATIONSHIP BETWEEN THE BUDGET AND THE POPULARITY OF A MOVIE"
   ]
  },
  {
   "cell_type": "markdown",
   "metadata": {},
   "source": [
    "BEFORE I FIND OUT THE RELATIONSHIP BETWEEN THE BUDGET AND THE POPULARITY OF A MOVIE,I WILL FIRST FILLUP THE EMPTY COLUMS THAT I JUST ADDED. I HAVE TO FIRST FIGURE OUT HOW TO CLASSIFY A MOVIE BETWEEN MOIES WITH LOW BUDGET THOSE WITH AVERAGE BUDGETS AND THOSE WITH HIGH BUDGETS"
   ]
  },
  {
   "cell_type": "markdown",
   "metadata": {},
   "source": [
    "First i will look at a histogram of each column"
   ]
  },
  {
   "cell_type": "code",
   "execution_count": 16,
   "metadata": {},
   "outputs": [
    {
     "data": {
      "image/png": "[encoded data removed]",
      "text/plain": [
       "<matplotlib.figure.Figure at 0x7f62fb7d7710>"
      ]
     },
     "metadata": {
      "needs_background": "light"
     },
     "output_type": "display_data"
    }
   ],
   "source": [
    "df.hist(figsize=(10,8));"
   ]
  },
  {
   "cell_type": "markdown",
   "metadata": {},
   "source": [
    "Next, we will see the relationships between the Budget size of a movie, the vote_count of a movie to its popularity"
   ]
  },
  {
   "cell_type": "code",
   "execution_count": 18,
   "metadata": {
    "scrolled": true
   },
   "outputs": [
    {
     "data": {
      "image/png": "[encoded data removed]",
      "text/plain": [
       "<matplotlib.figure.Figure at 0x7f62fccfce80>"
      ]
     },
     "metadata": {
      "needs_background": "light"
     },
     "output_type": "display_data"
    }
   ],
   "source": [
    "df.plot(x= 'budget', y= 'popularity',kind='scatter',figsize=(10,8));\n",
    "plt.title('Scatterplot showing the relationship between the budget and the popularity')\n",
    "plt.legend()"
   ]
  },
  {
   "cell_type": "markdown",
   "metadata": {},
   "source": [
    "From this Scatter plot, I can see that there's no particular trend between the budget and the popularity"
   ]
  },
  {
   "cell_type": "markdown",
   "metadata": {},
   "source": [
    "Next i will check for the relationship between the vote_counts and the popularity of a movie"
   ]
  },
  {
   "cell_type": "code",
   "execution_count": 22,
   "metadata": {
    "scrolled": false
   },
   "outputs": [
    {
     "data": {
      "text/plain": [
       "Text(0.5,1,'relationship between the vote counts and the popularity of a movie')"
      ]
     },
     "execution_count": 22,
     "metadata": {},
     "output_type": "execute_result"
    },
    {
     "data": {
      "image/png": "[encoded data removed]",
      "text/plain": [
       "<matplotlib.figure.Figure at 0x7f62fc9ce3c8>"
      ]
     },
     "metadata": {
      "needs_background": "light"
     },
     "output_type": "display_data"
    }
   ],
   "source": [
    "df.plot(x='vote_count',y='popularity', kind='scatter',figsize=(8,8));\n",
    "plt.title('relationship between the vote counts and the popularity of a movie')"
   ]
  },
  {
   "cell_type": "markdown",
   "metadata": {},
   "source": [
    "From this scatter plot, i notice there's a little trend between the vote_counts and the popularity of a movie. its an uptrend meaning, the more the vote_count, the more the popularity of a movie"
   ]
  },
  {
   "cell_type": "code",
   "execution_count": 23,
   "metadata": {},
   "outputs": [],
   "source": [
    "df['profit']=pd.NaT\n",
    "df['profit_rating']=pd.NaT\n",
    "df['popularity_rating']=pd.NaT\n",
    "df['vote_count_rating']=pd.NaT"
   ]
  },
  {
   "cell_type": "code",
   "execution_count": 24,
   "metadata": {},
   "outputs": [
    {
     "name": "stdout",
     "output_type": "stream",
     "text": [
      "   popularity     budget     revenue  vote_count profit profit_rating  \\\n",
      "0   32.985763  150000000  1513528810        5562    NaT           NaT   \n",
      "1   28.419936  150000000   378436354        6185    NaT           NaT   \n",
      "2   13.112507  110000000   295238201        2480    NaT           NaT   \n",
      "3   11.173104  200000000  2068178225        5292    NaT           NaT   \n",
      "4    9.335014  190000000  1506249360        2947    NaT           NaT   \n",
      "\n",
      "  popularity_rating vote_count_rating  \n",
      "0               NaT               NaT  \n",
      "1               NaT               NaT  \n",
      "2               NaT               NaT  \n",
      "3               NaT               NaT  \n",
      "4               NaT               NaT  \n"
     ]
    }
   ],
   "source": [
    "#check for the added cells.\n",
    "print(df.head())"
   ]
  },
  {
   "cell_type": "code",
   "execution_count": null,
   "metadata": {},
   "outputs": [],
   "source": []
  },
  {
   "cell_type": "code",
   "execution_count": 25,
   "metadata": {},
   "outputs": [
    {
     "name": "stdout",
     "output_type": "stream",
     "text": [
      "       popularity     budget     revenue  vote_count      profit  \\\n",
      "0       32.985763  150000000  1513528810        5562  1363528810   \n",
      "1       28.419936  150000000   378436354        6185   228436354   \n",
      "2       13.112507  110000000   295238201        2480   185238201   \n",
      "3       11.173104  200000000  2068178225        5292  1868178225   \n",
      "4        9.335014  190000000  1506249360        2947  1316249360   \n",
      "5        9.110700  135000000   532950503        3929   397950503   \n",
      "6        8.654359  155000000   440603537        2598   285603537   \n",
      "7        7.667400  108000000   595380321        4572   487380321   \n",
      "8        7.404165   74000000  1156730962        2893  1082730962   \n",
      "9        6.326804  175000000   853708609        3935   678708609   \n",
      "10       6.200282  245000000   880674609        3254   635674609   \n",
      "11       6.189369  176000003   183987723        1937     7987720   \n",
      "12       6.118847   15000000    36869414        2854    21869414   \n",
      "13       5.984995   88000000   243637091        1575   155637091   \n",
      "14       5.944927  280000000  1405035767        4304  1125035767   \n",
      "15       5.898400   44000000   155760117        2389   111760117   \n",
      "16       5.749758   48000000   325771424        1578   277771424   \n",
      "17       5.573184  130000000   518602163        3779   388602163   \n",
      "18       5.556818   95000000   542351353        1495   447351353   \n",
      "19       5.476958  160000000   650523427        2380   490523427   \n",
      "20       5.462138  190000000   209035668        1899    19035668   \n",
      "21       5.337064   30000000    91709827        1386    61709827   \n",
      "22       4.907832  110000000   470490832        2060   360490832   \n",
      "23       4.710402   40000000   569651467        1865   529651467   \n",
      "24       4.648046   28000000   133346506        1545   105346506   \n",
      "25       4.566713  150000000   682330139        2349   532330139   \n",
      "26       4.564549   68000000   215863606        1666   147863606   \n",
      "27       4.503789   81000000   403802136        3833   322802136   \n",
      "28       4.062293   20000000    88346473        1559    68346473   \n",
      "29       3.968891   61000000   311256926        1849   250256926   \n",
      "...           ...        ...         ...         ...         ...   \n",
      "10836    0.239435          0           0          11           0   \n",
      "10837    0.291704          0           0          12           0   \n",
      "10838    0.151845          0           0          21           0   \n",
      "10839    0.276133          0           0          49           0   \n",
      "10840    0.102530          0           0          13           0   \n",
      "10841    0.264925      75000           0          12      -75000   \n",
      "10842    0.253437          0           0          12           0   \n",
      "10843    0.252399          0           0          12           0   \n",
      "10844    0.236098          0           0          13           0   \n",
      "10845    0.230873          0           0          15           0   \n",
      "10846    0.212716          0           0          16           0   \n",
      "10847    0.034555          0           0          13           0   \n",
      "10848    0.207257    5115000    12000000          42     6885000   \n",
      "10849    0.206537          0           0          14           0   \n",
      "10850    0.202473          0           0          14           0   \n",
      "10851    0.342791          0           0          15           0   \n",
      "10852    0.227220          0           0          11           0   \n",
      "10853    0.163592          0           0          26           0   \n",
      "10854    0.146402          0           0          17           0   \n",
      "10855    0.141026     700000           0          14     -700000   \n",
      "10856    0.140934          0           0          14           0   \n",
      "10857    0.131378          0           0          10           0   \n",
      "10858    0.317824          0           0          11           0   \n",
      "10859    0.089072          0           0          22           0   \n",
      "10860    0.087034          0           0          13           0   \n",
      "10861    0.080598          0           0          11           0   \n",
      "10862    0.065543          0           0          20           0   \n",
      "10863    0.065141          0           0          11           0   \n",
      "10864    0.064317          0           0          22           0   \n",
      "10865    0.035919      19000           0          15      -19000   \n",
      "\n",
      "      profit_rating popularity_rating vote_count_rating  \n",
      "0               NaT               NaT               NaT  \n",
      "1               NaT               NaT               NaT  \n",
      "2               NaT               NaT               NaT  \n",
      "3               NaT               NaT               NaT  \n",
      "4               NaT               NaT               NaT  \n",
      "5               NaT               NaT               NaT  \n",
      "6               NaT               NaT               NaT  \n",
      "7               NaT               NaT               NaT  \n",
      "8               NaT               NaT               NaT  \n",
      "9               NaT               NaT               NaT  \n",
      "10              NaT               NaT               NaT  \n",
      "11              NaT               NaT               NaT  \n",
      "12              NaT               NaT               NaT  \n",
      "13              NaT               NaT               NaT  \n",
      "14              NaT               NaT               NaT  \n",
      "15              NaT               NaT               NaT  \n",
      "16              NaT               NaT               NaT  \n",
      "17              NaT               NaT               NaT  \n",
      "18              NaT               NaT               NaT  \n",
      "19              NaT               NaT               NaT  \n",
      "20              NaT               NaT               NaT  \n",
      "21              NaT               NaT               NaT  \n",
      "22              NaT               NaT               NaT  \n",
      "23              NaT               NaT               NaT  \n",
      "24              NaT               NaT               NaT  \n",
      "25              NaT               NaT               NaT  \n",
      "26              NaT               NaT               NaT  \n",
      "27              NaT               NaT               NaT  \n",
      "28              NaT               NaT               NaT  \n",
      "29              NaT               NaT               NaT  \n",
      "...             ...               ...               ...  \n",
      "10836           NaT               NaT               NaT  \n",
      "10837           NaT               NaT               NaT  \n",
      "10838           NaT               NaT               NaT  \n",
      "10839           NaT               NaT               NaT  \n",
      "10840           NaT               NaT               NaT  \n",
      "10841           NaT               NaT               NaT  \n",
      "10842           NaT               NaT               NaT  \n",
      "10843           NaT               NaT               NaT  \n",
      "10844           NaT               NaT               NaT  \n",
      "10845           NaT               NaT               NaT  \n",
      "10846           NaT               NaT               NaT  \n",
      "10847           NaT               NaT               NaT  \n",
      "10848           NaT               NaT               NaT  \n",
      "10849           NaT               NaT               NaT  \n",
      "10850           NaT               NaT               NaT  \n",
      "10851           NaT               NaT               NaT  \n",
      "10852           NaT               NaT               NaT  \n",
      "10853           NaT               NaT               NaT  \n",
      "10854           NaT               NaT               NaT  \n",
      "10855           NaT               NaT               NaT  \n",
      "10856           NaT               NaT               NaT  \n",
      "10857           NaT               NaT               NaT  \n",
      "10858           NaT               NaT               NaT  \n",
      "10859           NaT               NaT               NaT  \n",
      "10860           NaT               NaT               NaT  \n",
      "10861           NaT               NaT               NaT  \n",
      "10862           NaT               NaT               NaT  \n",
      "10863           NaT               NaT               NaT  \n",
      "10864           NaT               NaT               NaT  \n",
      "10865           NaT               NaT               NaT  \n",
      "\n",
      "[10863 rows x 8 columns]\n"
     ]
    }
   ],
   "source": [
    "# find values for the profit column\n",
    "def x(revenue,budget):\n",
    "    return revenue-budget\n",
    "df['profit']=df.apply(lambda f: x(f['revenue'],f['budget']),axis=1)\n",
    "print(df)"
   ]
  },
  {
   "cell_type": "markdown",
   "metadata": {},
   "source": [
    "TO FILL UP THE PROFIT, POPULARITY AND VOTE_COUNT RATINGS COLUMNS, I WILL HAVE TO FIRST FIND THE MEANS OF THE PROFIT, POPULARITY AND VOTE_COUNT COLUMN'S MEAN OR AVERAGE."
   ]
  },
  {
   "cell_type": "code",
   "execution_count": 26,
   "metadata": {},
   "outputs": [],
   "source": [
    "# the mean of the popularity_column\n",
    "popularity_mean= df['popularity'].mean()"
   ]
  },
  {
   "cell_type": "code",
   "execution_count": 27,
   "metadata": {},
   "outputs": [],
   "source": [
    "# the mean of the profit_column\n",
    "profit_mean=df['profit'].mean()"
   ]
  },
  {
   "cell_type": "code",
   "execution_count": 28,
   "metadata": {},
   "outputs": [],
   "source": [
    "#the mean of the vote_count column\n",
    "vote_count_mean=df['vote_count'].mean()"
   ]
  },
  {
   "cell_type": "markdown",
   "metadata": {},
   "source": [
    "NEXT, I WILL BE CLASSIFYING EACH ROW UNDER THE FOLLOWING CLASSES\n",
    "1. A MOVIE CAN ONLY BE CLASSIFIED AS 'PROFITABLE' OR 'LOSS FOR THE PROFIT_RATING_COLUMN\n",
    "2. 'POPULAR' OR 'UNPOPULAR' FOR THE POPULARITY_RATING COLUMN\n",
    "3. 'LOW_VOTED' OR 'HIGH_VOTED' FOR THE VOTE_COUNT RATING COLUMN\n",
    "NEXT I WILL BE USING A FORMULA, THAT WILL SORT EACH ROW INTO EACH CLASS BY COMPARING WITH THE MEAN:\n",
    "\n",
    "    IF THE PROFIT VALUE IS LESS THAN THE PROFIT_MEAN, IT SHOULD BE CLASSED AS A 'LOSS' GREATER THAN SHOULD BE A 'PROFIT'\n",
    "    \n",
    "    IF THE POPULARITY VALUE IS LESS THAN THE POPULARITY_MEAN, IT SHOULD READ 'UNPOPULAR' WHILE GREATER THAN SHOULD READ 'POPULAR'\n",
    "    \n",
    "    IF THE VOTE_COUNT VALUE IS LESS THAN THE VOTE_COUNT MEAN, IT SHOULD READ 'LOW_VOTED' IF ITS GREATER THAN THE MEAN, IT SHOULD READ 'HIGH_VOTED'.\n"
   ]
  },
  {
   "cell_type": "code",
   "execution_count": 29,
   "metadata": {},
   "outputs": [],
   "source": [
    "#i will set the profit_ratings to show whether a movie was profitable or not.\n",
    "\n",
    "df['profit_rating']=df['profit'].apply(lambda x: 'profitable' if x>profit_mean else 'loss')"
   ]
  },
  {
   "cell_type": "code",
   "execution_count": 30,
   "metadata": {},
   "outputs": [],
   "source": [
    "#i will set the popularity_ratings to show whether a movie was popular or not.\n",
    "\n",
    "df['popularity_rating']=df['popularity'].apply(lambda x: 'popular' if x>popularity_mean else 'unpopular')"
   ]
  },
  {
   "cell_type": "code",
   "execution_count": 31,
   "metadata": {},
   "outputs": [],
   "source": [
    "#i will set the vote_count_ratings to show whether a movie received high_votes or not.\n",
    "\n",
    "df['vote_count_rating']=df['vote_count'].apply(lambda x: 'high_voted' if x>vote_count_mean else 'low_voted')"
   ]
  },
  {
   "cell_type": "code",
   "execution_count": 32,
   "metadata": {},
   "outputs": [
    {
     "name": "stdout",
     "output_type": "stream",
     "text": [
      "   popularity     budget     revenue  vote_count      profit profit_rating  \\\n",
      "0   32.985763  150000000  1513528810        5562  1363528810    profitable   \n",
      "1   28.419936  150000000   378436354        6185   228436354    profitable   \n",
      "2   13.112507  110000000   295238201        2480   185238201    profitable   \n",
      "3   11.173104  200000000  2068178225        5292  1868178225    profitable   \n",
      "4    9.335014  190000000  1506249360        2947  1316249360    profitable   \n",
      "\n",
      "  popularity_rating vote_count_rating  \n",
      "0           popular        high_voted  \n",
      "1           popular        high_voted  \n",
      "2           popular        high_voted  \n",
      "3           popular        high_voted  \n",
      "4           popular        high_voted  \n"
     ]
    }
   ],
   "source": [
    "#here i check to make sure my changes were made.\n",
    "\n",
    "print(df.head())"
   ]
  },
  {
   "cell_type": "code",
   "execution_count": 33,
   "metadata": {
    "scrolled": false
   },
   "outputs": [],
   "source": [
    "#Now i will get those movies whose budget are low\n",
    "#first, i will find the mean of the budget column and then those under the mean are low_budget while those above are high budget movies\n",
    "budget_mean = df['budget'].mean()\n",
    "low_budget_movies=df[df[\"budget\"]<=df[\"budget\"].mean()]"
   ]
  },
  {
   "cell_type": "code",
   "execution_count": 34,
   "metadata": {
    "scrolled": true
   },
   "outputs": [
    {
     "name": "stdout",
     "output_type": "stream",
     "text": [
      "    popularity    budget   revenue  vote_count    profit profit_rating  \\\n",
      "30    3.927333         0  29355203         425  29355203    profitable   \n",
      "35    3.557846   6000000  35401758        1520  29401758    profitable   \n",
      "36    3.358321         0  22354572         474  22354572          loss   \n",
      "39    3.227329  11000000  62076141         754  51076141    profitable   \n",
      "45    3.023253  10000000  14333790         396   4333790          loss   \n",
      "\n",
      "   popularity_rating vote_count_rating  \n",
      "30           popular        high_voted  \n",
      "35           popular        high_voted  \n",
      "36           popular        high_voted  \n",
      "39           popular        high_voted  \n",
      "45           popular        high_voted  \n"
     ]
    }
   ],
   "source": [
    "#to have a look at the low_budget_movies table.\n",
    "print(low_budget_movies.head())"
   ]
  },
  {
   "cell_type": "code",
   "execution_count": 35,
   "metadata": {
    "scrolled": false
   },
   "outputs": [],
   "source": [
    "#Now i will get those movies whose budget are high\n",
    "#first, i will find the mean of the budget column and then those under the mean are low_budget while those above are high budget movies\n",
    "\n",
    "high_budget_movies=df[df[\"budget\"]>=df[\"budget\"].mean()]"
   ]
  },
  {
   "cell_type": "code",
   "execution_count": 36,
   "metadata": {},
   "outputs": [
    {
     "name": "stdout",
     "output_type": "stream",
     "text": [
      "   popularity     budget     revenue  vote_count      profit profit_rating  \\\n",
      "0   32.985763  150000000  1513528810        5562  1363528810    profitable   \n",
      "1   28.419936  150000000   378436354        6185   228436354    profitable   \n",
      "2   13.112507  110000000   295238201        2480   185238201    profitable   \n",
      "3   11.173104  200000000  2068178225        5292  1868178225    profitable   \n",
      "4    9.335014  190000000  1506249360        2947  1316249360    profitable   \n",
      "\n",
      "  popularity_rating vote_count_rating  \n",
      "0           popular        high_voted  \n",
      "1           popular        high_voted  \n",
      "2           popular        high_voted  \n",
      "3           popular        high_voted  \n",
      "4           popular        high_voted  \n"
     ]
    }
   ],
   "source": [
    "#A look at the high_budget_movie table\n",
    "print(high_budget_movies.head())"
   ]
  },
  {
   "cell_type": "code",
   "execution_count": 37,
   "metadata": {
    "scrolled": true
   },
   "outputs": [
    {
     "data": {
      "text/plain": [
       "<matplotlib.legend.Legend at 0x7f62fda15fd0>"
      ]
     },
     "execution_count": 37,
     "metadata": {},
     "output_type": "execute_result"
    },
    {
     "data": {
      "image/png": "[encoded data removed]",
      "text/plain": [
       "<matplotlib.figure.Figure at 0x7f62fda15c88>"
      ]
     },
     "metadata": {
      "needs_background": "light"
     },
     "output_type": "display_data"
    }
   ],
   "source": [
    "#plot a visual for the different popularity_ratings of low_budget_movies\n",
    "\n",
    "low_budget_movies['popularity_rating'].value_counts().plot(kind='bar');\n",
    "plt.title('Barchart showing the relationship between the unpopular and popular movies in the low budget movies dataframe')\n",
    "plt.xlabel('unpopular/popular')\n",
    "plt.ylabel('amount')\n",
    "plt.legend()"
   ]
  },
  {
   "cell_type": "markdown",
   "metadata": {},
   "source": [
    "From the chart above, we clearly see that alot of movies that were rated low_budget, were not so popular.\n",
    "which means that a movie that didn't cost must, will mostly likely not be popular.\n",
    "Next, I will check if low_budget_movies were profitable."
   ]
  },
  {
   "cell_type": "code",
   "execution_count": 38,
   "metadata": {
    "scrolled": true
   },
   "outputs": [
    {
     "data": {
      "text/plain": [
       "<matplotlib.legend.Legend at 0x7f62fda9d860>"
      ]
     },
     "execution_count": 38,
     "metadata": {},
     "output_type": "execute_result"
    },
    {
     "data": {
      "image/png": "[encoded data removed]",
      "text/plain": [
       "<matplotlib.figure.Figure at 0x7f62fca00ac8>"
      ]
     },
     "metadata": {
      "needs_background": "light"
     },
     "output_type": "display_data"
    }
   ],
   "source": [
    "#plot a visual for the different popularity_ratings of high_budget_movies\n",
    "\n",
    "high_budget_movies['popularity_rating'].value_counts().plot(kind='bar');\n",
    "plt.title('popular and unpopular movies that cost more')\n",
    "plt.xlabel('popular/unpopular')\n",
    "plt.ylabel('total count')\n",
    "plt.legend()"
   ]
  },
  {
   "cell_type": "markdown",
   "metadata": {},
   "source": [
    "while for the high_budget_movies, Quite a good number to them were popular in comparison with those that were unpopular."
   ]
  },
  {
   "cell_type": "markdown",
   "metadata": {},
   "source": [
    "### Research Question (2): How does the budget affect the profit levels o the movies"
   ]
  },
  {
   "cell_type": "code",
   "execution_count": 39,
   "metadata": {
    "scrolled": true
   },
   "outputs": [
    {
     "data": {
      "text/plain": [
       "<matplotlib.legend.Legend at 0x7f62fd9e39b0>"
      ]
     },
     "execution_count": 39,
     "metadata": {},
     "output_type": "execute_result"
    },
    {
     "data": {
      "image/png": "[encoded data removed]",
      "text/plain": [
       "<matplotlib.figure.Figure at 0x7f62fdaadef0>"
      ]
     },
     "metadata": {
      "needs_background": "light"
     },
     "output_type": "display_data"
    }
   ],
   "source": [
    "#plot a visual for the profit_rating of low_budget_movies\n",
    "\n",
    "low_budget_movies['profit_rating'].value_counts().plot(kind='bar');\n",
    "plt.title('profit ratings of low cost movies')\n",
    "plt.xlabel('profitable/losses')\n",
    "plt.ylabel('total count')\n",
    "plt.legend()"
   ]
  },
  {
   "cell_type": "markdown",
   "metadata": {},
   "source": [
    "Low_Budget_Movies also made alot of losses"
   ]
  },
  {
   "cell_type": "code",
   "execution_count": 40,
   "metadata": {
    "scrolled": true
   },
   "outputs": [
    {
     "data": {
      "text/plain": [
       "<matplotlib.legend.Legend at 0x7f62fd8df4e0>"
      ]
     },
     "execution_count": 40,
     "metadata": {},
     "output_type": "execute_result"
    },
    {
     "data": {
      "image/png": "[encoded data removed]",
      "text/plain": [
       "<matplotlib.figure.Figure at 0x7f62fd8df5c0>"
      ]
     },
     "metadata": {
      "needs_background": "light"
     },
     "output_type": "display_data"
    }
   ],
   "source": [
    "#plot a visual for the profit_rating of high_budget_movies\n",
    "\n",
    "high_budget_movies['profit_rating'].value_counts().plot(kind='bar');\n",
    "plt.title('profit ratings of high cost movies')\n",
    "plt.xlabel('profitable/losses')\n",
    "plt.ylabel('total count')\n",
    "plt.legend()"
   ]
  },
  {
   "cell_type": "markdown",
   "metadata": {},
   "source": [
    "While for the high_budget_movies, the difference wasn't that much."
   ]
  },
  {
   "cell_type": "markdown",
   "metadata": {},
   "source": [
    "### Research Question (3): How did the Vote_count do against the budget of a movie"
   ]
  },
  {
   "cell_type": "markdown",
   "metadata": {},
   "source": [
    "I will also plot a barchart to show this."
   ]
  },
  {
   "cell_type": "code",
   "execution_count": 41,
   "metadata": {},
   "outputs": [
    {
     "data": {
      "text/plain": [
       "<matplotlib.legend.Legend at 0x7f62fd8b5a20>"
      ]
     },
     "execution_count": 41,
     "metadata": {},
     "output_type": "execute_result"
    },
    {
     "data": {
      "image/png": "[encoded data removed]",
      "text/plain": [
       "<matplotlib.figure.Figure at 0x7f62fd8efdd8>"
      ]
     },
     "metadata": {
      "needs_background": "light"
     },
     "output_type": "display_data"
    }
   ],
   "source": [
    "low_budget_movies['vote_count_rating'].value_counts().plot(kind='bar');\n",
    "plt.title('vote_counts rating of low budget movies')\n",
    "plt.xlabel('ratings of the vote counts')\n",
    "plt.ylabel('total count')\n",
    "plt.legend()"
   ]
  },
  {
   "cell_type": "markdown",
   "metadata": {},
   "source": [
    "Alot of them also received low amount of votes."
   ]
  },
  {
   "cell_type": "markdown",
   "metadata": {},
   "source": [
    "For movies grouped as high_budget_movies."
   ]
  },
  {
   "cell_type": "code",
   "execution_count": 42,
   "metadata": {
    "scrolled": true
   },
   "outputs": [
    {
     "data": {
      "text/plain": [
       "<matplotlib.legend.Legend at 0x7f62fd889860>"
      ]
     },
     "execution_count": 42,
     "metadata": {},
     "output_type": "execute_result"
    },
    {
     "data": {
      "image/png": "[encoded data removed]",
      "text/plain": [
       "<matplotlib.figure.Figure at 0x7f62fd882588>"
      ]
     },
     "metadata": {
      "needs_background": "light"
     },
     "output_type": "display_data"
    }
   ],
   "source": [
    "#to plot a visual for the vote_count_rating for high_budget_movies\n",
    "high_budget_movies['vote_count_rating'].value_counts().plot(kind ='bar');\n",
    "plt.title('vote count ratings of high budget movies')\n",
    "plt.xlabel('ratings of the vote counts')\n",
    "plt.ylabel('total count')\n",
    "plt.legend()"
   ]
  },
  {
   "cell_type": "markdown",
   "metadata": {},
   "source": [
    "For movies that cost alot, though alot of them, received high_rating, Alot also received low_voting"
   ]
  },
  {
   "cell_type": "markdown",
   "metadata": {},
   "source": [
    "# Conclusions\n",
    "\n",
    "From the Analysis conducted, i can confidently advise the board that spending more on movies will be the best thing to do.Yes, the profits and vote counts are not that great, but these are factors that can be easily improved by hiring world-class directors and actors as well as making use of state of the art equipments so that the movies come out as high-quality."
   ]
  },
  {
   "cell_type": "markdown",
   "metadata": {},
   "source": [
    "# Limitations\n",
    "One major limitation was the fact that alot of the Budget rows had zeros which in real life is not really possible. replacing with the mean of the budget made all my Analysis the same which is why i used the original zeros as i was given."
   ]
  },
  {
   "cell_type": "code",
   "execution_count": 43,
   "metadata": {},
   "outputs": [
    {
     "data": {
      "text/plain": [
       "255"
      ]
     },
     "execution_count": 43,
     "metadata": {},
     "output_type": "execute_result"
    }
   ],
   "source": [
    "from subprocess import call\n",
    "call(['python', '-m', 'nbconvert', 'Investigate_a_Dataset.ipynb'])"
   ]
  }
 ],
 "metadata": {
  "kernelspec": {
   "display_name": "Python 3",
   "language": "python",
   "name": "python3"
  },
  "language_info": {
   "codemirror_mode": {
    "name": "ipython",
    "version": 3
   },
   "file_extension": ".py",
   "mimetype": "text/x-python",
   "name": "python",
   "nbconvert_exporter": "python",
   "pygments_lexer": "ipython3",
   "version": "3.6.3"
  }
 },
 "nbformat": 4,
 "nbformat_minor": 2
}
